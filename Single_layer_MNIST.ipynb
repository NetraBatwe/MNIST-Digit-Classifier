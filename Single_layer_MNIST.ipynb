{
  "nbformat": 4,
  "nbformat_minor": 0,
  "metadata": {
    "colab": {
      "provenance": [],
      "authorship_tag": "ABX9TyNqoMBv32uaW0b2XITaaX2M",
      "include_colab_link": true
    },
    "kernelspec": {
      "name": "python3",
      "display_name": "Python 3"
    },
    "language_info": {
      "name": "python"
    }
  },
  "cells": [
    {
      "cell_type": "markdown",
      "metadata": {
        "id": "view-in-github",
        "colab_type": "text"
      },
      "source": [
        "<a href=\"https://colab.research.google.com/github/NetraBatwe/MNIST-Digit-Classifier/blob/main/Single_layer_MNIST.ipynb\" target=\"_parent\"><img src=\"https://colab.research.google.com/assets/colab-badge.svg\" alt=\"Open In Colab\"/></a>"
      ]
    },
    {
      "cell_type": "code",
      "execution_count": null,
      "metadata": {
        "id": "IBUwGatTQZiL"
      },
      "outputs": [],
      "source": [
        "pip install idx2numpy"
      ]
    },
    {
      "cell_type": "code",
      "source": [
        "import idx2numpy\n",
        "from google.colab import drive \n",
        "drive.mount('/content/drive')\n",
        "import os\n",
        "os.chdir(\"/content/drive/My Drive/DATA\")"
      ],
      "metadata": {
        "colab": {
          "base_uri": "https://localhost:8080/"
        },
        "id": "hrJSpT_1QiHo",
        "outputId": "b376e726-ab8b-4b9d-8692-fe82c5868053"
      },
      "execution_count": null,
      "outputs": [
        {
          "output_type": "stream",
          "name": "stdout",
          "text": [
            "Mounted at /content/drive\n"
          ]
        }
      ]
    },
    {
      "cell_type": "code",
      "source": [
        "import gzip\n",
        "import idx2numpy\n",
        "import numpy as np"
      ],
      "metadata": {
        "id": "OdWYgRl_QlQb"
      },
      "execution_count": null,
      "outputs": []
    },
    {
      "cell_type": "code",
      "source": [
        "with gzip.open('/content/drive/My Drive/DATA/train-images.idx3-ubyte.gz', 'rb') as f:\n",
        "    x_train = idx2numpy.convert_from_file(f)\n",
        "\n",
        "with gzip.open('/content/drive/My Drive/DATA/train-labels-idx1-ubyte.gz', 'rb') as f:\n",
        "    y_train = idx2numpy.convert_from_file(f)\n",
        "\n",
        "with gzip.open('/content/drive/My Drive/DATA/t10k-images-idx3-ubyte.gz', 'rb')  as f:\n",
        "    x_test = idx2numpy.convert_from_file(f)\n",
        "\n",
        "with gzip.open('/content/drive/My Drive/DATA/t10k-labels-idx1-ubyte.gz', 'rb')  as f:\n",
        "    y_test = idx2numpy.convert_from_file(f)"
      ],
      "metadata": {
        "id": "GIwgFeMQQvHC"
      },
      "execution_count": null,
      "outputs": []
    },
    {
      "cell_type": "code",
      "source": [
        "import matplotlib.pyplot as plt\n",
        "sample=0\n",
        "for sample in range (2):\n",
        "   plt.title(y_train[sample])\n",
        "   plt.imshow(x_train[sample],cmap='gray')\n",
        "   plt.show()\n",
        "  "
      ],
      "metadata": {
        "colab": {
          "base_uri": "https://localhost:8080/",
          "height": 545
        },
        "id": "FqbYWEWAVt27",
        "outputId": "573bd0f1-8af7-464b-a99a-bed7588e766c"
      },
      "execution_count": null,
      "outputs": [
        {
          "output_type": "display_data",
          "data": {
            "text/plain": [
              "<Figure size 432x288 with 1 Axes>"
            ],
            "image/png": "[encoded data removed]"
          },
          "metadata": {
            "needs_background": "light"
          }
        },
        {
          "output_type": "display_data",
          "data": {
            "text/plain": [
              "<Figure size 432x288 with 1 Axes>"
            ],
            "image/png": "[encoded data removed]"
          },
          "metadata": {
            "needs_background": "light"
          }
        }
      ]
    },
    {
      "cell_type": "code",
      "source": [
        "x_train=np.resize(x_train,(28*28,60000))\n",
        "print(x_train.shape)\n",
        "x=x_train.shape[0]\n",
        "x_train=(x_train)/255\n",
        "h1=128\n",
        "y=np.zeros((10,60000))\n",
        "for m in range(60000):\n",
        "   for j in range(10):\n",
        "     if(j == y_train[m]):\n",
        "       y[j][m]=1\n",
        "m=60000\n",
        "l=0\n",
        "c=np.zeros(1000)\n",
        "y[0]"
      ],
      "metadata": {
        "id": "V-tvVmr1Vt_w"
      },
      "execution_count": null,
      "outputs": []
    },
    {
      "cell_type": "code",
      "source": [
        "\n",
        "w1=np.random.randn(h1,x)*0.01\n",
        "b1=np.zeros((h1,1))\n",
        "z1=np.dot(w1,x_train)+b1\n",
        "\n",
        "w2=np.random.randn(10,h1)*0.01\n",
        "b2=np.zeros((10,1))\n",
        "\n",
        "#print(x_train.shape)\n",
        "for i in range(1000):\n",
        " d=np.exp(-z1)\n",
        " a1=1/(1+d)\n",
        " \n",
        " #w2=np.transpose(w2)\n",
        " z2=np.dot(w2,a1)+b2\n",
        " d3=np.exp(z2)\n",
        " d4=np.sum(d3, axis=0)\n",
        " a2=d3/d4\n",
        " l=-np.sum(y*(np.log(a2)), axis=0)\n",
        " c[i]=np.sum(l)/m\n",
        "\n",
        " if(i%10==0):\n",
        "  print(c[i])\n",
        "\n",
        " dz2=a2-y\n",
        " dz2t=np.transpose(dz2)\n",
        " #print(dz2.shape)\n",
        "\n",
        " dw2=np.dot(a1,dz2t)/m\n",
        " db2=np.sum(dz2,axis=1,keepdims=True)/m\n",
        "\n",
        " da1=np.dot(dw2,dz2)\n",
        " dz1=(da1*a1)*(1-a1)\n",
        " dz1=np.transpose(dz1)\n",
        " dw1=np.dot(x_train,dz1)/m\n",
        " db1=np.sum(dz1,axis=1,keepdims=True)/m\n",
        "\n",
        " dw1t=np.transpose(dw1)\n",
        " dw2t=np.transpose(dw2)\n",
        " db1t=np.transpose(db1)\n",
        "# db2t=np.transpose(db2)\n",
        " learning_rate=0.001\n",
        " w1=w1-learning_rate*dw1t\n",
        " w2=w2-learning_rate*dw2t\n",
        " b1=b1-learning_rate*db1t\n",
        " b2=b2-learning_rate*db2\n"
      ],
      "metadata": {
        "id": "BATohT0uVuGi"
      },
      "execution_count": null,
      "outputs": []
    },
    {
      "cell_type": "code",
      "source": [
        "plt.plot(c)\n",
        "plt.show()"
      ],
      "metadata": {
        "colab": {
          "base_uri": "https://localhost:8080/",
          "height": 265
        },
        "id": "jO-VwZifxq_t",
        "outputId": "0a4ded76-b632-444b-cb60-07ee35e28438"
      },
      "execution_count": null,
      "outputs": [
        {
          "output_type": "display_data",
          "data": {
            "text/plain": [
              "<Figure size 432x288 with 1 Axes>"
            ],
            "image/png": "[encoded data removed]"
          },
          "metadata": {
            "needs_background": "light"
          }
        }
      ]
    },
    {
      "cell_type": "code",
      "source": [
        "a=np.zeros(100)\n",
        "x_test=x_test/255\n",
        "x_test= np.resize(x_test,(28*28,10000))\n",
        "for i in range (100):\n",
        " x=x_test\n",
        "\n",
        " z1=np.dot(w1,x)+b1\n",
        " d=np.exp(-z1)\n",
        " a1=1/(1+d)\n",
        "\n",
        " z2=np.dot(w2,a1)+b2\n",
        " d3=np.exp(z2)\n",
        " d4=np.sum(d3, axis=0)\n",
        " a2=d3/d4\n",
        "\n",
        " for k in range (100):\n",
        "   a[k]=x_label[i]-a2\n",
        "\n",
        "print(np.sum(a))"
      ],
      "metadata": {
        "id": "CxJbr3z2GbQ5"
      },
      "execution_count": null,
      "outputs": []
    }
  ]
}